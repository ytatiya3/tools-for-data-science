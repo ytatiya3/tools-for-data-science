{
 "cells": [
  {
   "cell_type": "markdown",
   "id": "3d97977b-a74e-4739-a460-a5789eae2810",
   "metadata": {},
   "source": [
    "# Data Science Tools and Ecosystem"
   ]
  },
  {
   "cell_type": "markdown",
   "id": "6f4a1353-2076-4829-a147-b362026697af",
   "metadata": {},
   "source": [
    "In this notebook, Data Science Tools and Ecosystem are summarized."
   ]
  },
  {
   "cell_type": "markdown",
   "id": "f95220a2-d4e3-41ba-b157-ef0bb03059f1",
   "metadata": {},
   "source": [
    "Objectives:\n",
    "1. List of data science tools \n",
    "2. List of languages in Data science\n",
    "3. List of libraries used in data science"
   ]
  },
  {
   "cell_type": "markdown",
   "id": "5fbe936d-9d5f-43c8-958e-74b9b68a898f",
   "metadata": {},
   "source": [
    "Some of the popular languages that Data Scientists use are:\n",
    "Commonly used languages for Data science are :\n",
    "1. R\n",
    "2. Python\n",
    "3. Julia\n",
    "4. JAVA\n",
    "5. C++"
   ]
  },
  {
   "cell_type": "markdown",
   "id": "1ad6066c-36da-4979-8bd1-f2faf1174387",
   "metadata": {},
   "source": [
    "Some of the commonly used libraries used by Data Scientists include:\n",
    "Commonly used libraries in Data Science are:\n",
    "1. Panda\n",
    "2. Numpy\n",
    "3. Matplotlib\n",
    "4. sci-kitlearn\n",
    "5. Tensorflow\n",
    "6. ggplot\n",
    "7. carret\n",
    "8. plotly"
   ]
  },
  {
   "cell_type": "markdown",
   "id": "e953c068-af3e-41d4-a32d-0c101dc6e045",
   "metadata": {},
   "source": [
    "|Data Science Tools|\n",
    "------------------\n",
    "|Python|\n",
    "|R|\n",
    "|github|\n",
    "|Hadoop|\n",
    "|MySQL|\n",
    "|Cassandra|\n",
    "|Apache Spark|"
   ]
  },
  {
   "cell_type": "markdown",
   "id": "6060cd58-3970-4209-8d15-c214720ef384",
   "metadata": {},
   "source": [
    "### Below are a few examples of evaluating arithmetic expressions in Python"
   ]
  },
  {
   "cell_type": "code",
   "execution_count": 1,
   "id": "0160d813-0fb1-4013-bb74-9e2dfd5fe1fc",
   "metadata": {},
   "outputs": [
    {
     "data": {
      "text/plain": [
       "17"
      ]
     },
     "execution_count": 1,
     "metadata": {},
     "output_type": "execute_result"
    }
   ],
   "source": [
    "# This a simple arithmetic expression to mutiply then add integers.\n",
    "(3*4)+5"
   ]
  },
  {
   "cell_type": "code",
   "execution_count": 3,
   "id": "ff152618-c362-4af4-abbf-d78bab7a10a1",
   "metadata": {},
   "outputs": [
    {
     "name": "stdout",
     "output_type": "stream",
     "text": [
      "200 minutes converted in 3.3333333333333335 hours\n"
     ]
    }
   ],
   "source": [
    "# This will convert 200 minutes to hours by diving by 60\n",
    "min = 200\n",
    "hours =  200 / 60\n",
    "print(f\"200 minutes converted in {hours} hours\")"
   ]
  },
  {
   "cell_type": "markdown",
   "id": "3cb08c84-bdab-4328-8a8a-63ef0c3c11b7",
   "metadata": {},
   "source": [
    "## Author\n",
    "Piyush Chaudhari"
   ]
  }
 ],
 "metadata": {
  "kernelspec": {
   "display_name": "Python",
   "language": "python",
   "name": "conda-env-python-py"
  },
  "language_info": {
   "codemirror_mode": {
    "name": "ipython",
    "version": 3
   },
   "file_extension": ".py",
   "mimetype": "text/x-python",
   "name": "python",
   "nbconvert_exporter": "python",
   "pygments_lexer": "ipython3",
   "version": "3.7.12"
  }
 },
 "nbformat": 4,
 "nbformat_minor": 5
}
